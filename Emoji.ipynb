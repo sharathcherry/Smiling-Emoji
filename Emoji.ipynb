{
 "cells": [
  {
   "cell_type": "code",
   "execution_count": 2,
   "id": "1e0c7913-5b18-4b67-ac98-560b691d7401",
   "metadata": {},
   "outputs": [
    {
     "name": "stdout",
     "output_type": "stream",
     "text": [
      "Collecting emot\n",
      "  Downloading emot-3.1-py3-none-any.whl.metadata (396 bytes)\n",
      "Downloading emot-3.1-py3-none-any.whl (61 kB)\n",
      "Installing collected packages: emot\n",
      "Successfully installed emot-3.1\n",
      "Note: you may need to restart the kernel to use updated packages.\n"
     ]
    }
   ],
   "source": [
    "\n",
    "pip install emot\n"
   ]
  },
  {
   "cell_type": "code",
   "execution_count": 16,
   "id": "37039d27-b9ba-49e2-9100-283ac405c10f",
   "metadata": {},
   "outputs": [],
   "source": [
    "text1 = \"What are you saying 🙃. I am the boss ,🫠 and why are you so \""
   ]
  },
  {
   "cell_type": "code",
   "execution_count": 17,
   "id": "9d4c2f7e-5b35-4be2-83a4-7809b29d0fcf",
   "metadata": {},
   "outputs": [],
   "source": [
    "import re\n",
    "\n",
    "from emot.emo_unicode import UNICODE_EMOJI\n",
    "\n",
    "from emot.emo_unicode import EMOTICONS_EMO"
   ]
  },
  {
   "cell_type": "code",
   "execution_count": 18,
   "id": "c9a7a8df-eea7-4896-af85-a1ceaf484e63",
   "metadata": {},
   "outputs": [],
   "source": [
    "import re\n",
    "\n",
    "from emot.emo_unicode import UNICODE_EMOJI\n",
    "\n",
    "from emot.emo_unicode import EMOTICONS_EMO\n",
    "\n",
    "\n",
    "\n",
    "\n",
    "# Function for converting emojis into word\n"
   ]
  },
  {
   "cell_type": "code",
   "execution_count": 19,
   "id": "e6e3ce27-2473-41cd-b5b4-0952dbca0278",
   "metadata": {},
   "outputs": [
    {
     "data": {
      "text/plain": [
       "'What are you saying upside-down_face. I am the boss ,🫠 and why are you so '"
      ]
     },
     "execution_count": 19,
     "metadata": {},
     "output_type": "execute_result"
    }
   ],
   "source": [
    "\n",
    "def converting_emojis(text):\n",
    "\n",
    "    for emot in UNICODE_EMOJI:\n",
    "\n",
    "        text = text.replace(emot, \"_\".join(UNICODE_EMOJI[emot].replace(\",\",\"\")\\\n",
    "\n",
    "                                           .replace(\":\",\"\").split()))\n",
    "\n",
    "    return text\n",
    "\n",
    " \n",
    "\n",
    "converting_emojis(text1)"
   ]
  },
  {
   "cell_type": "code",
   "execution_count": 20,
   "id": "5be2b919-91bc-4d09-aa40-f93621911560",
   "metadata": {},
   "outputs": [
    {
     "data": {
      "text/plain": [
       "'What are you saying . I am the boss , and why are you so '"
      ]
     },
     "execution_count": 20,
     "metadata": {},
     "output_type": "execute_result"
    }
   ],
   "source": [
    "def emoji_removal(string):\n",
    "    emoji_unicodes = re.compile(\"[\"\n",
    "                               u\"\\U0001F600-\\U0001F64F\"  # emoticons\n",
    "                               u\"\\U0001F300-\\U0001F5FF\"  # symbols \n",
    "                               u\"\\U0001F680-\\U0001F6FF\"  # transport \n",
    "                               u\"\\U0001F1E0-\\U0001F1FF\"  # flags (iOS)\n",
    "                               u\"\\U00002500-\\U00002BEF\"  \n",
    "                               u\"\\U00002702-\\U000027B0\"\n",
    "                               u\"\\U000024C2-\\U0001F251\"\n",
    "                               u\"\\U0001f926-\\U0001f937\"\n",
    "                               u\"\\U00010000-\\U0010ffff\"\n",
    "                               u\"\\u2640-\\u2642\"\n",
    "                               u\"\\u2600-\\u2B55\"\n",
    "                               u\"\\u200d\"\n",
    "                               u\"\\u23cf\"\n",
    "                               u\"\\u23e9\"\n",
    "                               u\"\\u231a\"\n",
    "                               u\"\\ufe0f\"  \n",
    "                               u\"\\u3030\"\n",
    "                               \"]+\", flags=re.UNICODE)\n",
    "    return emoji_unicodes.sub(r'', string)\n",
    "emoji_removal(text1)"
   ]
  },
  {
   "cell_type": "code",
   "execution_count": null,
   "id": "ce1d3b7e-cafb-4ea2-93f6-c7ed7c626702",
   "metadata": {},
   "outputs": [],
   "source": []
  }
 ],
 "metadata": {
  "kernelspec": {
   "display_name": "Python 3 (ipykernel)",
   "language": "python",
   "name": "python3"
  },
  "language_info": {
   "codemirror_mode": {
    "name": "ipython",
    "version": 3
   },
   "file_extension": ".py",
   "mimetype": "text/x-python",
   "name": "python",
   "nbconvert_exporter": "python",
   "pygments_lexer": "ipython3",
   "version": "3.12.7"
  }
 },
 "nbformat": 4,
 "nbformat_minor": 5
}
